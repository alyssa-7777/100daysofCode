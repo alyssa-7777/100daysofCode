{
 "cells": [
  {
   "cell_type": "code",
   "execution_count": 1,
   "metadata": {},
   "outputs": [
    {
     "name": "stdout",
     "output_type": "stream",
     "text": [
      "3\n",
      "1 2 4 3 NO\n",
      "8 5 6 7 NO\n",
      "0 1 2 3 NO\n",
      "9\n"
     ]
    }
   ],
   "source": [
    "N = int(input())\n",
    "\n",
    "numbers = set(range(10))\n",
    "\n",
    "for _ in range(N):\n",
    "    ABCD_R = input().split()\n",
    "\n",
    "    R = ABCD_R.pop()\n",
    "    ABCD = [int(i) for i in ABCD_R]\n",
    "\n",
    "    if R == 'YES':\n",
    "        numbers &= set(ABCD)\n",
    "    elif R == 'NO':\n",
    "        numbers -= set(ABCD)\n",
    "\n",
    "if len(numbers) == 1:\n",
    "    print(list(numbers)[0])"
   ]
  },
  {
   "cell_type": "code",
   "execution_count": null,
   "metadata": {},
   "outputs": [],
   "source": []
  }
 ],
 "metadata": {
  "kernelspec": {
   "display_name": "Python 3",
   "language": "python",
   "name": "python3"
  },
  "language_info": {
   "codemirror_mode": {
    "name": "ipython",
    "version": 3
   },
   "file_extension": ".py",
   "mimetype": "text/x-python",
   "name": "python",
   "nbconvert_exporter": "python",
   "pygments_lexer": "ipython3",
   "version": "3.6.6"
  },
  "varInspector": {
   "cols": {
    "lenName": 16,
    "lenType": 16,
    "lenVar": 40
   },
   "kernels_config": {
    "python": {
     "delete_cmd_postfix": "",
     "delete_cmd_prefix": "del ",
     "library": "var_list.py",
     "varRefreshCmd": "print(var_dic_list())"
    },
    "r": {
     "delete_cmd_postfix": ") ",
     "delete_cmd_prefix": "rm(",
     "library": "var_list.r",
     "varRefreshCmd": "cat(var_dic_list()) "
    }
   },
   "types_to_exclude": [
    "module",
    "function",
    "builtin_function_or_method",
    "instance",
    "_Feature"
   ],
   "window_display": false
  }
 },
 "nbformat": 4,
 "nbformat_minor": 2
}
